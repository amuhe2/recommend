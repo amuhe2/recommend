{
 "metadata": {
  "name": "",
  "signature": "sha256:a6dc1bf9462f0d0b2ff950eb392c1d918c1689d329eac76f1b45bf72ec726a6e"
 },
 "nbformat": 3,
 "nbformat_minor": 0,
 "worksheets": [
  {
   "cells": [
    {
     "cell_type": "heading",
     "level": 1,
     "metadata": {},
     "source": [
      "Recommender Homework  "
     ]
    },
    {
     "cell_type": "code",
     "collapsed": false,
     "input": [
      "import pandas as pd\n",
      "import numpy as np"
     ],
     "language": "python",
     "metadata": {},
     "outputs": [],
     "prompt_number": 1
    },
    {
     "cell_type": "markdown",
     "metadata": {},
     "source": [
      "Downloading the class movie reviews from here https://docs.google.com/spreadsheets/d/17rCJzmWxqvAu9rkpkgt4ToccIlY4A1Ffuu1W9X3B8Ag/\n",
      "and reading it as a pandas dataframe"
     ]
    },
    {
     "cell_type": "code",
     "collapsed": false,
     "input": [
      "M = pd.read_csv('C:\\Users\\muheeb\\Documents\\IPython Notebooks\\\\Movie Reviews.csv', index_col='Name')"
     ],
     "language": "python",
     "metadata": {},
     "outputs": [],
     "prompt_number": 2
    },
    {
     "cell_type": "code",
     "collapsed": false,
     "input": [
      "def pearson(s1, s2):\n",
      "    \"\"\"Take two pd.Series objects and return a pearson correlation.\"\"\"\n",
      "    s1_c = s1 - s1.mean()\n",
      "    s2_c = s2 - s2.mean()\n",
      "    return np.sum(s1_c * s2_c) / np.sqrt(np.sum(s1_c ** 2) * np.sum(s2_c ** 2))"
     ],
     "language": "python",
     "metadata": {},
     "outputs": [],
     "prompt_number": 3
    },
    {
     "cell_type": "code",
     "collapsed": false,
     "input": [
      "def get_recs(movie_name, M, num):\n",
      "\n",
      "    import numpy as np\n",
      "    reviews = []\n",
      "    for title in M.columns:\n",
      "        if title == movie_name:\n",
      "            continue\n",
      "        cor = pearson(M[movie_name], M[title])\n",
      "        if np.isnan(cor):\n",
      "            continue\n",
      "        else:\n",
      "            reviews.append((title, cor))\n",
      "    \n",
      "    reviews.sort(key=lambda tup: tup[1], reverse=True)\n",
      "    return reviews[:num]\n"
     ],
     "language": "python",
     "metadata": {},
     "outputs": [],
     "prompt_number": 5
    },
    {
     "cell_type": "heading",
     "level": 6,
     "metadata": {},
     "source": [
      "Question 1: What movie is most Similar to 'The fault in our stars'"
     ]
    },
    {
     "cell_type": "code",
     "collapsed": false,
     "input": [
      "recs = get_recs('The Fault in Our Stars', M, 10)\n",
      "recs[:1]"
     ],
     "language": "python",
     "metadata": {},
     "outputs": [
      {
       "metadata": {},
       "output_type": "pyout",
       "prompt_number": 6,
       "text": [
        "[('Transformers', 0.46673568990261)]"
       ]
      }
     ],
     "prompt_number": 6
    },
    {
     "cell_type": "markdown",
     "metadata": {},
     "source": [
      "Therefore, Transformers is the most similar movie to 'The Fault in Our Stars'"
     ]
    },
    {
     "cell_type": "heading",
     "level": 6,
     "metadata": {},
     "source": [
      "Question 2: Which movie(s) would you most like to see, based on your classmates experience?"
     ]
    },
    {
     "cell_type": "markdown",
     "metadata": {},
     "source": [
      "movies which I have watched & the movies which I have rated as highest."
     ]
    },
    {
     "cell_type": "code",
     "collapsed": false,
     "input": [
      "my_ratings = M.ix['Ahmed Muheebuddin'].dropna()\n",
      "my_ratings.sort(ascending=False)\n",
      "fav_movie = my_ratings.index[0]"
     ],
     "language": "python",
     "metadata": {},
     "outputs": [],
     "prompt_number": 9
    },
    {
     "cell_type": "code",
     "collapsed": false,
     "input": [
      "my_ratings"
     ],
     "language": "python",
     "metadata": {},
     "outputs": [
      {
       "metadata": {},
       "output_type": "pyout",
       "prompt_number": 8,
       "text": [
        "American Sniper            5\n",
        "Guardians of the Galaxy    4\n",
        "The Hobbit                 3\n",
        "Name: Ahmed Muheebuddin, dtype: float64"
       ]
      }
     ],
     "prompt_number": 8
    },
    {
     "cell_type": "markdown",
     "metadata": {},
     "source": [
      "My favorite movie is "
     ]
    },
    {
     "cell_type": "code",
     "collapsed": false,
     "input": [
      "fav_movie"
     ],
     "language": "python",
     "metadata": {},
     "outputs": [
      {
       "metadata": {},
       "output_type": "pyout",
       "prompt_number": 10,
       "text": [
        "'American Sniper'"
       ]
      }
     ],
     "prompt_number": 10
    },
    {
     "cell_type": "code",
     "collapsed": false,
     "input": [
      "recs = get_recs(fav_movie, M, 10)"
     ],
     "language": "python",
     "metadata": {},
     "outputs": [],
     "prompt_number": 11
    },
    {
     "cell_type": "markdown",
     "metadata": {},
     "source": [
      "Top 10 movies that I would like to watch based on my classmates experience."
     ]
    },
    {
     "cell_type": "code",
     "collapsed": false,
     "input": [
      "recs[:10]"
     ],
     "language": "python",
     "metadata": {},
     "outputs": [
      {
       "metadata": {},
       "output_type": "pyout",
       "prompt_number": 12,
       "text": [
        "[('Gone Girl', 0.34641016151377541),\n",
        " ('300: Rise of an Empire', 0.29845295432144292),\n",
        " ('Divergent', 0.26232841892739539),\n",
        " ('How to Train your Dragon 2', 0.091666666666666646),\n",
        " ('The Lego Movie', 0.050709255283711022),\n",
        " ('Malificent', 0.042905816516051666),\n",
        " ('Unbroken', 0.015430334996209199),\n",
        " ('Big Hero 6', -0.016903085094570326),\n",
        " ('Interstellar', -0.040451991747794527),\n",
        " ('Transformers', -0.14846193298837301)]"
       ]
      }
     ],
     "prompt_number": 12
    },
    {
     "cell_type": "heading",
     "level": 6,
     "metadata": {},
     "source": [
      "Bonus Question... For all the movies you haven't seen, can you predict how you'd rate them using your the class reviews?"
     ]
    },
    {
     "cell_type": "code",
     "collapsed": false,
     "input": [
      "not_rated = M.ix['Ahmed Muheebuddin']\n",
      "not_rated.sort()\n",
      "for i in range(0, not_rated.count(), 1):\n",
      "    not_rated.drop(not_rated.index[0], inplace=True)"
     ],
     "language": "python",
     "metadata": {},
     "outputs": [],
     "prompt_number": 23
    },
    {
     "cell_type": "markdown",
     "metadata": {},
     "source": [
      "Movies I have not rated"
     ]
    },
    {
     "cell_type": "code",
     "collapsed": false,
     "input": [
      "not_rated"
     ],
     "language": "python",
     "metadata": {},
     "outputs": [
      {
       "metadata": {},
       "output_type": "pyout",
       "prompt_number": 24,
       "text": [
        "The Hunger Games: Mockingjay - Part 1   NaN\n",
        "The Lego Movie                          NaN\n",
        "Transformers                            NaN\n",
        "Malificent                              NaN\n",
        "Big Hero 6                              NaN\n",
        "Godzilla                                NaN\n",
        "Interstellar                            NaN\n",
        "How to Train your Dragon 2              NaN\n",
        "Gone Girl                               NaN\n",
        "Divergent                               NaN\n",
        "The Fault in Our Stars                  NaN\n",
        "Unbroken                                NaN\n",
        "300: Rise of an Empire                  NaN\n",
        "Name: Ahmed Muheebuddin, dtype: float64"
       ]
      }
     ],
     "prompt_number": 24
    },
    {
     "cell_type": "markdown",
     "metadata": {},
     "source": [
      "Pearson Correlation coefficient between Ahmed Muheebuddin and all other classmates."
     ]
    },
    {
     "cell_type": "code",
     "collapsed": false,
     "input": [
      "#pearson correlation coefficient between (Aditya Dharmasagar and all other classmates)\n",
      "print \"Pearson Correlation coefficient of :\"\n",
      "a= []\n",
      "for i in range(0, 28, 1):\n",
      "    cor=pearson(M.ix[28], M.ix[i])\n",
      "    print \"(\" + M.index[28] + \" , \" + M.index[i] + \") :\", cor\n",
      "    a.append(cor)"
     ],
     "language": "python",
     "metadata": {},
     "outputs": [
      {
       "output_type": "stream",
       "stream": "stdout",
       "text": [
        "Pearson Correlation coefficient of :\n",
        "(Ahmed Muheebuddin , Mike) : -0.186052101884\n",
        "(Ahmed Muheebuddin , HJ SONG) : 0.0414157683281\n",
        "(Ahmed Muheebuddin , Ryan Hansen) : -0.390360029179\n",
        "(Ahmed Muheebuddin , Olumuyiwa Durojaiye) : nan\n",
        "(Ahmed Muheebuddin , Charlie) : -0.0414157683281\n",
        "(Ahmed Muheebuddin , Sina Tuy) : -0.419313934689\n",
        "(Ahmed Muheebuddin , Pavithra Shetty) : 0.106600358178\n",
        "(Ahmed Muheebuddin , Sara Collins) : 0.0\n",
        "(Ahmed Muheebuddin , Jonathan Doll) : -0.338061701891\n",
        "(Ahmed Muheebuddin , saikiran reddy) : -0.196698948117\n",
        "(Ahmed Muheebuddin , Aishwarya reddy) : -0.109108945118\n",
        "(Ahmed Muheebuddin , Brant Mullinix) : -0.355334527259\n",
        "(Ahmed Muheebuddin , Sai Sampath) : -0.109108945118\n",
        "(Ahmed Muheebuddin , Suyendra) : -0.299074302277\n",
        "(Ahmed Muheebuddin , Sai Yallapragada) : 0.353553390593\n",
        "(Ahmed Muheebuddin , Akhilesh) : -0.275009549108\n",
        "(Ahmed Muheebuddin , Sundar Prasad) : nan\n",
        "(Ahmed Muheebuddin , Evan Piercy) : 0.129099444874\n",
        "(Ahmed Muheebuddin , Jessica Fong) : 0.0\n",
        "(Ahmed Muheebuddin , Onsiri Tapsarn) : nan\n",
        "(Ahmed Muheebuddin , Anirudh Thota) : 0.210818510678\n",
        "(Ahmed Muheebuddin , Greg Werner) : 0.28749445425\n",
        "(Ahmed Muheebuddin , Violeta Lee Fay) : nan\n",
        "(Ahmed Muheebuddin , Aditya Dharmasagar) : 0.0\n",
        "(Ahmed Muheebuddin , Manideep Maddipatla) : -0.296374489182\n",
        "(Ahmed Muheebuddin , Maheshwar Reddy) : -0.375\n",
        "(Ahmed Muheebuddin , siddanth sudarshan) : 0.778311782494\n",
        "(Ahmed Muheebuddin , anurag) : 0.321633760451\n"
       ]
      }
     ],
     "prompt_number": 25
    },
    {
     "cell_type": "code",
     "collapsed": false,
     "input": [
      "def pred_rate(x, a):\n",
      "    \n",
      "    j=0\n",
      "    k=0\n",
      "    for i in range(0,29, 1):\n",
      "        if x.irow(i)>0 and a[i]>0: \n",
      "            j= j+(a[i]*x.irow(i))\n",
      "            k= k+a[i]\n",
      "        else:\n",
      "            continue\n",
      "    return j/k"
     ],
     "language": "python",
     "metadata": {},
     "outputs": [],
     "prompt_number": 38
    },
    {
     "cell_type": "code",
     "collapsed": false,
     "input": [
      "print \"My ratings for the movies thatI have not watched are\"\n",
      "for i in range(0, 10, 1): \n",
      "    x=M[not_rated.index[i]]\n",
      "    rate=pred_rate(x, a)\n",
      "    print not_rated.index[i] +\": \", rate.round(1)"
     ],
     "language": "python",
     "metadata": {},
     "outputs": [
      {
       "output_type": "stream",
       "stream": "stdout",
       "text": [
        "My ratings for the movies thatI have not watched are\n",
        "The Hunger Games: Mockingjay - Part 1:  2.8\n",
        "The Lego Movie:  3.2\n",
        "Transformers:  3.8\n",
        "Malificent:  4.0\n",
        "Big Hero 6:  4.0\n",
        "Godzilla:  3.0\n",
        "Interstellar:  4.5\n",
        "How to Train your Dragon 2:  3.6\n",
        "Gone Girl:  4.0\n",
        "Divergent:  2.9\n"
       ]
      }
     ],
     "prompt_number": 40
    },
    {
     "cell_type": "code",
     "collapsed": false,
     "input": [],
     "language": "python",
     "metadata": {},
     "outputs": []
    }
   ],
   "metadata": {}
  }
 ]
}